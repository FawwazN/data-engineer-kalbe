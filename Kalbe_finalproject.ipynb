{
 "cells": [
  {
   "cell_type": "markdown",
   "metadata": {},
   "source": [
    "# Data Engineer Virtual Internship Program"
   ]
  },
  {
   "cell_type": "markdown",
   "metadata": {},
   "source": [
    "## Import libraries"
   ]
  },
  {
   "cell_type": "code",
   "execution_count": 1,
   "metadata": {},
   "outputs": [],
   "source": [
    "import psycopg2\n",
    "import pandas as pd\n",
    "import warnings\n",
    "warnings.filterwarnings(\"ignore\")"
   ]
  },
  {
   "cell_type": "markdown",
   "metadata": {},
   "source": [
    "## Connecting to PostgreSQL"
   ]
  },
  {
   "cell_type": "code",
   "execution_count": 2,
   "metadata": {},
   "outputs": [
    {
     "name": "stdout",
     "output_type": "stream",
     "text": [
      "Successfully connected to the database!\n"
     ]
    }
   ],
   "source": [
    "try:\n",
    "    connection = psycopg2.connect(\n",
    "        dbname='KALBE',\n",
    "        user='postgres',\n",
    "        password='diversionofthree',\n",
    "        host='localhost',\n",
    "        port='5432'\n",
    "    )\n",
    "    print('Successfully connected to the database!')\n",
    "except psycopg2.Error as e:\n",
    "    print(f\"ERROR: {e}\")"
   ]
  },
  {
   "cell_type": "markdown",
   "metadata": {},
   "source": [
    "## Show tables from KALBE database"
   ]
  },
  {
   "cell_type": "code",
   "execution_count": 3,
   "metadata": {},
   "outputs": [
    {
     "data": {
      "text/html": [
       "<div>\n",
       "<style scoped>\n",
       "    .dataframe tbody tr th:only-of-type {\n",
       "        vertical-align: middle;\n",
       "    }\n",
       "\n",
       "    .dataframe tbody tr th {\n",
       "        vertical-align: top;\n",
       "    }\n",
       "\n",
       "    .dataframe thead th {\n",
       "        text-align: right;\n",
       "    }\n",
       "</style>\n",
       "<table border=\"1\" class=\"dataframe\">\n",
       "  <thead>\n",
       "    <tr style=\"text-align: right;\">\n",
       "      <th></th>\n",
       "      <th>item_code</th>\n",
       "      <th>item_name</th>\n",
       "      <th>item_price</th>\n",
       "      <th>item_total</th>\n",
       "    </tr>\n",
       "  </thead>\n",
       "  <tbody>\n",
       "    <tr>\n",
       "      <th>0</th>\n",
       "      <td>2341</td>\n",
       "      <td>Promag Tablet</td>\n",
       "      <td>3000</td>\n",
       "      <td>100</td>\n",
       "    </tr>\n",
       "    <tr>\n",
       "      <th>1</th>\n",
       "      <td>2342</td>\n",
       "      <td>Hydro Coco 250ML</td>\n",
       "      <td>7000</td>\n",
       "      <td>20</td>\n",
       "    </tr>\n",
       "    <tr>\n",
       "      <th>2</th>\n",
       "      <td>2343</td>\n",
       "      <td>Nutrive Benecol 100ML</td>\n",
       "      <td>20000</td>\n",
       "      <td>30</td>\n",
       "    </tr>\n",
       "    <tr>\n",
       "      <th>3</th>\n",
       "      <td>2344</td>\n",
       "      <td>Blackmores Vit C 500Mg</td>\n",
       "      <td>95000</td>\n",
       "      <td>45</td>\n",
       "    </tr>\n",
       "    <tr>\n",
       "      <th>4</th>\n",
       "      <td>2345</td>\n",
       "      <td>Entrasol Gold 370G</td>\n",
       "      <td>90000</td>\n",
       "      <td>120</td>\n",
       "    </tr>\n",
       "  </tbody>\n",
       "</table>\n",
       "</div>"
      ],
      "text/plain": [
       "  item_code               item_name  item_price  item_total\n",
       "0      2341           Promag Tablet        3000         100\n",
       "1      2342        Hydro Coco 250ML        7000          20\n",
       "2      2343   Nutrive Benecol 100ML       20000          30\n",
       "3      2344  Blackmores Vit C 500Mg       95000          45\n",
       "4      2345      Entrasol Gold 370G       90000         120"
      ]
     },
     "execution_count": 3,
     "metadata": {},
     "output_type": "execute_result"
    }
   ],
   "source": [
    "query = 'SELECT * FROM public.inventory;'\n",
    "df = pd.read_sql_query(query, connection)\n",
    "df"
   ]
  },
  {
   "cell_type": "code",
   "execution_count": 4,
   "metadata": {},
   "outputs": [
    {
     "data": {
      "text/html": [
       "<div>\n",
       "<style scoped>\n",
       "    .dataframe tbody tr th:only-of-type {\n",
       "        vertical-align: middle;\n",
       "    }\n",
       "\n",
       "    .dataframe tbody tr th {\n",
       "        vertical-align: top;\n",
       "    }\n",
       "\n",
       "    .dataframe thead th {\n",
       "        text-align: right;\n",
       "    }\n",
       "</style>\n",
       "<table border=\"1\" class=\"dataframe\">\n",
       "  <thead>\n",
       "    <tr style=\"text-align: right;\">\n",
       "      <th></th>\n",
       "      <th>order_no</th>\n",
       "      <th>purchase_amount</th>\n",
       "      <th>order_date</th>\n",
       "      <th>customer_id</th>\n",
       "      <th>salesman_id</th>\n",
       "    </tr>\n",
       "  </thead>\n",
       "  <tbody>\n",
       "    <tr>\n",
       "      <th>0</th>\n",
       "      <td>10001</td>\n",
       "      <td>150</td>\n",
       "      <td>2022-10-05</td>\n",
       "      <td>2005</td>\n",
       "      <td>3002</td>\n",
       "    </tr>\n",
       "    <tr>\n",
       "      <th>1</th>\n",
       "      <td>10009</td>\n",
       "      <td>279</td>\n",
       "      <td>2022-09-10</td>\n",
       "      <td>2001</td>\n",
       "      <td>3005</td>\n",
       "    </tr>\n",
       "    <tr>\n",
       "      <th>2</th>\n",
       "      <td>10002</td>\n",
       "      <td>65</td>\n",
       "      <td>2022-10-05</td>\n",
       "      <td>2002</td>\n",
       "      <td>3001</td>\n",
       "    </tr>\n",
       "    <tr>\n",
       "      <th>3</th>\n",
       "      <td>10004</td>\n",
       "      <td>110</td>\n",
       "      <td>2022-08-17</td>\n",
       "      <td>2009</td>\n",
       "      <td>3003</td>\n",
       "    </tr>\n",
       "    <tr>\n",
       "      <th>4</th>\n",
       "      <td>10007</td>\n",
       "      <td>948</td>\n",
       "      <td>2022-09-10</td>\n",
       "      <td>2005</td>\n",
       "      <td>3002</td>\n",
       "    </tr>\n",
       "    <tr>\n",
       "      <th>5</th>\n",
       "      <td>10005</td>\n",
       "      <td>2400</td>\n",
       "      <td>2022-07-27</td>\n",
       "      <td>2007</td>\n",
       "      <td>3001</td>\n",
       "    </tr>\n",
       "  </tbody>\n",
       "</table>\n",
       "</div>"
      ],
      "text/plain": [
       "   order_no  purchase_amount  order_date  customer_id  salesman_id\n",
       "0     10001              150  2022-10-05         2005         3002\n",
       "1     10009              279  2022-09-10         2001         3005\n",
       "2     10002               65  2022-10-05         2002         3001\n",
       "3     10004              110  2022-08-17         2009         3003\n",
       "4     10007              948  2022-09-10         2005         3002\n",
       "5     10005             2400  2022-07-27         2007         3001"
      ]
     },
     "execution_count": 4,
     "metadata": {},
     "output_type": "execute_result"
    }
   ],
   "source": [
    "query = 'SELECT * FROM public.customer_orders;'\n",
    "df = pd.read_sql_query(query, connection)\n",
    "df"
   ]
  },
  {
   "cell_type": "markdown",
   "metadata": {},
   "source": [
    "## Show Item_name that has the highest number in Item_total"
   ]
  },
  {
   "cell_type": "code",
   "execution_count": 5,
   "metadata": {},
   "outputs": [
    {
     "data": {
      "text/html": [
       "<div>\n",
       "<style scoped>\n",
       "    .dataframe tbody tr th:only-of-type {\n",
       "        vertical-align: middle;\n",
       "    }\n",
       "\n",
       "    .dataframe tbody tr th {\n",
       "        vertical-align: top;\n",
       "    }\n",
       "\n",
       "    .dataframe thead th {\n",
       "        text-align: right;\n",
       "    }\n",
       "</style>\n",
       "<table border=\"1\" class=\"dataframe\">\n",
       "  <thead>\n",
       "    <tr style=\"text-align: right;\">\n",
       "      <th></th>\n",
       "      <th>item_name</th>\n",
       "    </tr>\n",
       "  </thead>\n",
       "  <tbody>\n",
       "    <tr>\n",
       "      <th>0</th>\n",
       "      <td>Entrasol Gold 370G</td>\n",
       "    </tr>\n",
       "  </tbody>\n",
       "</table>\n",
       "</div>"
      ],
      "text/plain": [
       "            item_name\n",
       "0  Entrasol Gold 370G"
      ]
     },
     "execution_count": 5,
     "metadata": {},
     "output_type": "execute_result"
    }
   ],
   "source": [
    "query_item_total_high = 'SELECT item_name FROM public.inventory ORDER BY item_total DESC LIMIT 1;'\n",
    "num_high_item = pd.read_sql_query(query_item_total_high, connection)\n",
    "num_high_item"
   ]
  },
  {
   "cell_type": "markdown",
   "metadata": {},
   "source": [
    "## Update the Item_price of the output of question bullet"
   ]
  },
  {
   "cell_type": "code",
   "execution_count": 6,
   "metadata": {},
   "outputs": [
    {
     "name": "stdout",
     "output_type": "stream",
     "text": [
      "Item_price updated successfully.\n"
     ]
    }
   ],
   "source": [
    "num_high_item = pd.read_sql_query(query_item_total_high, connection)\n",
    "new_item_price = 96900\n",
    "query_update_item_price = f\"UPDATE public.inventory SET item_price = {new_item_price} WHERE item_name = '{num_high_item['item_name'][0]}';\"\n",
    "with connection.cursor() as cursor:\n",
    "    cursor.execute(query_update_item_price)\n",
    "connection.commit()\n",
    "print(\"Item_price updated successfully.\")"
   ]
  },
  {
   "cell_type": "code",
   "execution_count": 7,
   "metadata": {},
   "outputs": [
    {
     "data": {
      "text/html": [
       "<div>\n",
       "<style scoped>\n",
       "    .dataframe tbody tr th:only-of-type {\n",
       "        vertical-align: middle;\n",
       "    }\n",
       "\n",
       "    .dataframe tbody tr th {\n",
       "        vertical-align: top;\n",
       "    }\n",
       "\n",
       "    .dataframe thead th {\n",
       "        text-align: right;\n",
       "    }\n",
       "</style>\n",
       "<table border=\"1\" class=\"dataframe\">\n",
       "  <thead>\n",
       "    <tr style=\"text-align: right;\">\n",
       "      <th></th>\n",
       "      <th>item_code</th>\n",
       "      <th>item_name</th>\n",
       "      <th>item_price</th>\n",
       "      <th>item_total</th>\n",
       "    </tr>\n",
       "  </thead>\n",
       "  <tbody>\n",
       "    <tr>\n",
       "      <th>0</th>\n",
       "      <td>2341</td>\n",
       "      <td>Promag Tablet</td>\n",
       "      <td>3000</td>\n",
       "      <td>100</td>\n",
       "    </tr>\n",
       "    <tr>\n",
       "      <th>1</th>\n",
       "      <td>2342</td>\n",
       "      <td>Hydro Coco 250ML</td>\n",
       "      <td>7000</td>\n",
       "      <td>20</td>\n",
       "    </tr>\n",
       "    <tr>\n",
       "      <th>2</th>\n",
       "      <td>2343</td>\n",
       "      <td>Nutrive Benecol 100ML</td>\n",
       "      <td>20000</td>\n",
       "      <td>30</td>\n",
       "    </tr>\n",
       "    <tr>\n",
       "      <th>3</th>\n",
       "      <td>2344</td>\n",
       "      <td>Blackmores Vit C 500Mg</td>\n",
       "      <td>95000</td>\n",
       "      <td>45</td>\n",
       "    </tr>\n",
       "    <tr>\n",
       "      <th>4</th>\n",
       "      <td>2345</td>\n",
       "      <td>Entrasol Gold 370G</td>\n",
       "      <td>96900</td>\n",
       "      <td>120</td>\n",
       "    </tr>\n",
       "  </tbody>\n",
       "</table>\n",
       "</div>"
      ],
      "text/plain": [
       "  item_code               item_name  item_price  item_total\n",
       "0      2341           Promag Tablet        3000         100\n",
       "1      2342        Hydro Coco 250ML        7000          20\n",
       "2      2343   Nutrive Benecol 100ML       20000          30\n",
       "3      2344  Blackmores Vit C 500Mg       95000          45\n",
       "4      2345      Entrasol Gold 370G       96900         120"
      ]
     },
     "execution_count": 7,
     "metadata": {},
     "output_type": "execute_result"
    }
   ],
   "source": [
    "query = 'SELECT * FROM public.inventory;'\n",
    "df = pd.read_sql_query(query, connection)\n",
    "df"
   ]
  },
  {
   "cell_type": "markdown",
   "metadata": {},
   "source": [
    "## What will happen if we insert another Item_name with Item_code of 2343 into the table?"
   ]
  },
  {
   "cell_type": "code",
   "execution_count": 8,
   "metadata": {},
   "outputs": [
    {
     "name": "stdout",
     "output_type": "stream",
     "text": [
      "Successfully inserted new items.\n"
     ]
    }
   ],
   "source": [
    "new_item = (\"Entrostop\", 2343, 50, 19000)\n",
    "query_insert_item = \"INSERT INTO public.inventory (item_name, item_code, item_total, item_price) VALUES (%s, %s, %s, %s);\"\n",
    "with connection.cursor() as cursor:\n",
    "    cursor.execute(query_insert_item, new_item)\n",
    "connection.commit()\n",
    "print(\"Successfully inserted new items.\")\n"
   ]
  },
  {
   "cell_type": "code",
   "execution_count": 9,
   "metadata": {},
   "outputs": [
    {
     "data": {
      "text/html": [
       "<div>\n",
       "<style scoped>\n",
       "    .dataframe tbody tr th:only-of-type {\n",
       "        vertical-align: middle;\n",
       "    }\n",
       "\n",
       "    .dataframe tbody tr th {\n",
       "        vertical-align: top;\n",
       "    }\n",
       "\n",
       "    .dataframe thead th {\n",
       "        text-align: right;\n",
       "    }\n",
       "</style>\n",
       "<table border=\"1\" class=\"dataframe\">\n",
       "  <thead>\n",
       "    <tr style=\"text-align: right;\">\n",
       "      <th></th>\n",
       "      <th>item_code</th>\n",
       "      <th>item_name</th>\n",
       "      <th>item_price</th>\n",
       "      <th>item_total</th>\n",
       "    </tr>\n",
       "  </thead>\n",
       "  <tbody>\n",
       "    <tr>\n",
       "      <th>0</th>\n",
       "      <td>2341</td>\n",
       "      <td>Promag Tablet</td>\n",
       "      <td>3000</td>\n",
       "      <td>100</td>\n",
       "    </tr>\n",
       "    <tr>\n",
       "      <th>1</th>\n",
       "      <td>2342</td>\n",
       "      <td>Hydro Coco 250ML</td>\n",
       "      <td>7000</td>\n",
       "      <td>20</td>\n",
       "    </tr>\n",
       "    <tr>\n",
       "      <th>2</th>\n",
       "      <td>2343</td>\n",
       "      <td>Nutrive Benecol 100ML</td>\n",
       "      <td>20000</td>\n",
       "      <td>30</td>\n",
       "    </tr>\n",
       "    <tr>\n",
       "      <th>3</th>\n",
       "      <td>2344</td>\n",
       "      <td>Blackmores Vit C 500Mg</td>\n",
       "      <td>95000</td>\n",
       "      <td>45</td>\n",
       "    </tr>\n",
       "    <tr>\n",
       "      <th>4</th>\n",
       "      <td>2345</td>\n",
       "      <td>Entrasol Gold 370G</td>\n",
       "      <td>96900</td>\n",
       "      <td>120</td>\n",
       "    </tr>\n",
       "    <tr>\n",
       "      <th>5</th>\n",
       "      <td>2343</td>\n",
       "      <td>Entrostop</td>\n",
       "      <td>19000</td>\n",
       "      <td>50</td>\n",
       "    </tr>\n",
       "  </tbody>\n",
       "</table>\n",
       "</div>"
      ],
      "text/plain": [
       "  item_code               item_name  item_price  item_total\n",
       "0      2341           Promag Tablet        3000         100\n",
       "1      2342        Hydro Coco 250ML        7000          20\n",
       "2      2343   Nutrive Benecol 100ML       20000          30\n",
       "3      2344  Blackmores Vit C 500Mg       95000          45\n",
       "4      2345      Entrasol Gold 370G       96900         120\n",
       "5      2343               Entrostop       19000          50"
      ]
     },
     "execution_count": 9,
     "metadata": {},
     "output_type": "execute_result"
    }
   ],
   "source": [
    "query = 'SELECT * FROM public.inventory;'\n",
    "df = pd.read_sql_query(query, connection)\n",
    "df"
   ]
  },
  {
   "cell_type": "markdown",
   "metadata": {},
   "source": [
    "## Delete the Item_name that has the lowest number of Item_total"
   ]
  },
  {
   "cell_type": "code",
   "execution_count": 16,
   "metadata": {},
   "outputs": [
    {
     "name": "stdout",
     "output_type": "stream",
     "text": [
      "Successfully deleted item with lowest Item_total value.\n"
     ]
    }
   ],
   "source": [
    "try:\n",
    "    query_delete_lowest_item = \"DELETE FROM public.inventory WHERE item_total = (SELECT MIN(item_total) FROM public.inventory);\"\n",
    "\n",
    "    with connection.cursor() as cursor:\n",
    "        cursor.execute(query_delete_lowest_item)\n",
    "\n",
    "    connection.commit()\n",
    "    print(\"Successfully deleted item with lowest Item_total value.\")\n",
    "\n",
    "except psycopg2.Error as e:\n",
    "    connection.rollback()  # Rollback the transaction to clear the error state\n",
    "    print(f\"Error: {e}\")"
   ]
  },
  {
   "cell_type": "code",
   "execution_count": 17,
   "metadata": {},
   "outputs": [
    {
     "data": {
      "text/html": [
       "<div>\n",
       "<style scoped>\n",
       "    .dataframe tbody tr th:only-of-type {\n",
       "        vertical-align: middle;\n",
       "    }\n",
       "\n",
       "    .dataframe tbody tr th {\n",
       "        vertical-align: top;\n",
       "    }\n",
       "\n",
       "    .dataframe thead th {\n",
       "        text-align: right;\n",
       "    }\n",
       "</style>\n",
       "<table border=\"1\" class=\"dataframe\">\n",
       "  <thead>\n",
       "    <tr style=\"text-align: right;\">\n",
       "      <th></th>\n",
       "      <th>item_code</th>\n",
       "      <th>item_name</th>\n",
       "      <th>item_price</th>\n",
       "      <th>item_total</th>\n",
       "    </tr>\n",
       "  </thead>\n",
       "  <tbody>\n",
       "    <tr>\n",
       "      <th>0</th>\n",
       "      <td>2341</td>\n",
       "      <td>Promag Tablet</td>\n",
       "      <td>3000</td>\n",
       "      <td>100</td>\n",
       "    </tr>\n",
       "    <tr>\n",
       "      <th>1</th>\n",
       "      <td>2343</td>\n",
       "      <td>Nutrive Benecol 100ML</td>\n",
       "      <td>20000</td>\n",
       "      <td>30</td>\n",
       "    </tr>\n",
       "    <tr>\n",
       "      <th>2</th>\n",
       "      <td>2344</td>\n",
       "      <td>Blackmores Vit C 500Mg</td>\n",
       "      <td>95000</td>\n",
       "      <td>45</td>\n",
       "    </tr>\n",
       "    <tr>\n",
       "      <th>3</th>\n",
       "      <td>2345</td>\n",
       "      <td>Entrasol Gold 370G</td>\n",
       "      <td>96900</td>\n",
       "      <td>120</td>\n",
       "    </tr>\n",
       "    <tr>\n",
       "      <th>4</th>\n",
       "      <td>2343</td>\n",
       "      <td>Obat Decolgen</td>\n",
       "      <td>15000</td>\n",
       "      <td>50</td>\n",
       "    </tr>\n",
       "  </tbody>\n",
       "</table>\n",
       "</div>"
      ],
      "text/plain": [
       "  item_code               item_name  item_price  item_total\n",
       "0      2341           Promag Tablet        3000         100\n",
       "1      2343   Nutrive Benecol 100ML       20000          30\n",
       "2      2344  Blackmores Vit C 500Mg       95000          45\n",
       "3      2345      Entrasol Gold 370G       96900         120\n",
       "4      2343           Obat Decolgen       15000          50"
      ]
     },
     "execution_count": 17,
     "metadata": {},
     "output_type": "execute_result"
    }
   ],
   "source": [
    "query = 'SELECT * FROM public.inventory;'\n",
    "df = pd.read_sql_query(query, connection)\n",
    "df"
   ]
  },
  {
   "cell_type": "markdown",
   "metadata": {},
   "source": [
    "## Query Create (Challenge No.5)"
   ]
  },
  {
   "cell_type": "markdown",
   "metadata": {},
   "source": [
    "Create a Query to display all customer orders where purchase amount is less than 100 or exclude those orders which order date is on or greater than 25 Aug 2022 and customer id is above 2001. Sample table: customer_orders"
   ]
  },
  {
   "cell_type": "code",
   "execution_count": 19,
   "metadata": {},
   "outputs": [],
   "source": [
    "query_display = \"SELECT * FROM customer_orders WHERE (purchase_amount < 100 OR (order_date < '2022-08-25' AND customer_id <= 2001));\""
   ]
  },
  {
   "cell_type": "code",
   "execution_count": 21,
   "metadata": {},
   "outputs": [
    {
     "data": {
      "text/html": [
       "<div>\n",
       "<style scoped>\n",
       "    .dataframe tbody tr th:only-of-type {\n",
       "        vertical-align: middle;\n",
       "    }\n",
       "\n",
       "    .dataframe tbody tr th {\n",
       "        vertical-align: top;\n",
       "    }\n",
       "\n",
       "    .dataframe thead th {\n",
       "        text-align: right;\n",
       "    }\n",
       "</style>\n",
       "<table border=\"1\" class=\"dataframe\">\n",
       "  <thead>\n",
       "    <tr style=\"text-align: right;\">\n",
       "      <th></th>\n",
       "      <th>order_no</th>\n",
       "      <th>purchase_amount</th>\n",
       "      <th>order_date</th>\n",
       "      <th>customer_id</th>\n",
       "      <th>salesman_id</th>\n",
       "    </tr>\n",
       "  </thead>\n",
       "  <tbody>\n",
       "    <tr>\n",
       "      <th>0</th>\n",
       "      <td>10002</td>\n",
       "      <td>65</td>\n",
       "      <td>2022-10-05</td>\n",
       "      <td>2002</td>\n",
       "      <td>3001</td>\n",
       "    </tr>\n",
       "  </tbody>\n",
       "</table>\n",
       "</div>"
      ],
      "text/plain": [
       "   order_no  purchase_amount  order_date  customer_id  salesman_id\n",
       "0     10002               65  2022-10-05         2002         3001"
      ]
     },
     "execution_count": 21,
     "metadata": {},
     "output_type": "execute_result"
    }
   ],
   "source": [
    "dfdisplay = pd.read_sql_query(query_display, connection)\n",
    "dfdisplay"
   ]
  }
 ],
 "metadata": {
  "kernelspec": {
   "display_name": "Python 3",
   "language": "python",
   "name": "python3"
  },
  "language_info": {
   "codemirror_mode": {
    "name": "ipython",
    "version": 3
   },
   "file_extension": ".py",
   "mimetype": "text/x-python",
   "name": "python",
   "nbconvert_exporter": "python",
   "pygments_lexer": "ipython3",
   "version": "3.11.1"
  },
  "orig_nbformat": 4
 },
 "nbformat": 4,
 "nbformat_minor": 2
}
